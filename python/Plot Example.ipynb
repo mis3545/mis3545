{
 "cells": [
  {
   "cell_type": "code",
   "execution_count": 1,
   "metadata": {
    "collapsed": true
   },
   "outputs": [],
   "source": [
    "# For data\n",
    "import pandas as pd\n",
    "from pandas import Series,DataFrame\n",
    "import numpy as np\n",
    "\n",
    "# For visualization\n",
    "import matplotlib.pyplot as plt\n",
    "import seaborn as sns\n",
    "sns.set_style('whitegrid')\n",
    "%matplotlib inline"
   ]
  },
  {
   "cell_type": "code",
   "execution_count": 2,
   "metadata": {},
   "outputs": [
    {
     "data": {
      "text/plain": [
       "DatetimeIndex(['2017-10-01', '2017-10-02', '2017-10-03', '2017-10-04',\n",
       "               '2017-10-05', '2017-10-06', '2017-10-07', '2017-10-08',\n",
       "               '2017-10-09', '2017-10-10'],\n",
       "              dtype='datetime64[ns]', freq='D')"
      ]
     },
     "execution_count": 2,
     "metadata": {},
     "output_type": "execute_result"
    }
   ],
   "source": [
    "dates = pd.date_range('20171001',periods=10)\n",
    "dates"
   ]
  },
  {
   "cell_type": "code",
   "execution_count": 3,
   "metadata": {},
   "outputs": [
    {
     "data": {
      "text/html": [
       "<div>\n",
       "<style>\n",
       "    .dataframe thead tr:only-child th {\n",
       "        text-align: right;\n",
       "    }\n",
       "\n",
       "    .dataframe thead th {\n",
       "        text-align: left;\n",
       "    }\n",
       "\n",
       "    .dataframe tbody tr th {\n",
       "        vertical-align: top;\n",
       "    }\n",
       "</style>\n",
       "<table border=\"1\" class=\"dataframe\">\n",
       "  <thead>\n",
       "    <tr style=\"text-align: right;\">\n",
       "      <th></th>\n",
       "      <th>one</th>\n",
       "      <th>two</th>\n",
       "      <th>three</th>\n",
       "    </tr>\n",
       "  </thead>\n",
       "  <tbody>\n",
       "    <tr>\n",
       "      <th>2017-10-01</th>\n",
       "      <td>-0.244262</td>\n",
       "      <td>1.253725</td>\n",
       "      <td>1.906872</td>\n",
       "    </tr>\n",
       "    <tr>\n",
       "      <th>2017-10-02</th>\n",
       "      <td>0.967578</td>\n",
       "      <td>3.011935</td>\n",
       "      <td>1.513145</td>\n",
       "    </tr>\n",
       "    <tr>\n",
       "      <th>2017-10-03</th>\n",
       "      <td>-0.140157</td>\n",
       "      <td>2.255219</td>\n",
       "      <td>1.637998</td>\n",
       "    </tr>\n",
       "    <tr>\n",
       "      <th>2017-10-04</th>\n",
       "      <td>2.342089</td>\n",
       "      <td>0.052039</td>\n",
       "      <td>1.062294</td>\n",
       "    </tr>\n",
       "    <tr>\n",
       "      <th>2017-10-05</th>\n",
       "      <td>0.399734</td>\n",
       "      <td>1.130438</td>\n",
       "      <td>1.180739</td>\n",
       "    </tr>\n",
       "    <tr>\n",
       "      <th>2017-10-06</th>\n",
       "      <td>2.892481</td>\n",
       "      <td>-1.207851</td>\n",
       "      <td>-0.315728</td>\n",
       "    </tr>\n",
       "    <tr>\n",
       "      <th>2017-10-07</th>\n",
       "      <td>1.078070</td>\n",
       "      <td>0.993069</td>\n",
       "      <td>-0.298695</td>\n",
       "    </tr>\n",
       "    <tr>\n",
       "      <th>2017-10-08</th>\n",
       "      <td>-1.934822</td>\n",
       "      <td>0.770533</td>\n",
       "      <td>1.878864</td>\n",
       "    </tr>\n",
       "    <tr>\n",
       "      <th>2017-10-09</th>\n",
       "      <td>-0.973343</td>\n",
       "      <td>0.818633</td>\n",
       "      <td>0.578578</td>\n",
       "    </tr>\n",
       "    <tr>\n",
       "      <th>2017-10-10</th>\n",
       "      <td>0.941606</td>\n",
       "      <td>1.041696</td>\n",
       "      <td>1.509840</td>\n",
       "    </tr>\n",
       "  </tbody>\n",
       "</table>\n",
       "</div>"
      ],
      "text/plain": [
       "                 one       two     three\n",
       "2017-10-01 -0.244262  1.253725  1.906872\n",
       "2017-10-02  0.967578  3.011935  1.513145\n",
       "2017-10-03 -0.140157  2.255219  1.637998\n",
       "2017-10-04  2.342089  0.052039  1.062294\n",
       "2017-10-05  0.399734  1.130438  1.180739\n",
       "2017-10-06  2.892481 -1.207851 -0.315728\n",
       "2017-10-07  1.078070  0.993069 -0.298695\n",
       "2017-10-08 -1.934822  0.770533  1.878864\n",
       "2017-10-09 -0.973343  0.818633  0.578578\n",
       "2017-10-10  0.941606  1.041696  1.509840"
      ]
     },
     "execution_count": 3,
     "metadata": {},
     "output_type": "execute_result"
    }
   ],
   "source": [
    "df = pd.DataFrame(np.random.normal(1,1,30).reshape(10,3), \n",
    "                  index = dates, \n",
    "                  columns = ('one', 'two', 'three'))\n",
    "df"
   ]
  },
  {
   "cell_type": "code",
   "execution_count": 4,
   "metadata": {},
   "outputs": [
    {
     "data": {
      "text/html": [
       "<div>\n",
       "<style>\n",
       "    .dataframe thead tr:only-child th {\n",
       "        text-align: right;\n",
       "    }\n",
       "\n",
       "    .dataframe thead th {\n",
       "        text-align: left;\n",
       "    }\n",
       "\n",
       "    .dataframe tbody tr th {\n",
       "        vertical-align: top;\n",
       "    }\n",
       "</style>\n",
       "<table border=\"1\" class=\"dataframe\">\n",
       "  <thead>\n",
       "    <tr style=\"text-align: right;\">\n",
       "      <th></th>\n",
       "      <th>one</th>\n",
       "      <th>two</th>\n",
       "      <th>three</th>\n",
       "      <th>date</th>\n",
       "    </tr>\n",
       "  </thead>\n",
       "  <tbody>\n",
       "    <tr>\n",
       "      <th>2017-10-01</th>\n",
       "      <td>-0.244262</td>\n",
       "      <td>1.253725</td>\n",
       "      <td>1.906872</td>\n",
       "      <td>2017-10-01</td>\n",
       "    </tr>\n",
       "    <tr>\n",
       "      <th>2017-10-02</th>\n",
       "      <td>0.967578</td>\n",
       "      <td>3.011935</td>\n",
       "      <td>1.513145</td>\n",
       "      <td>2017-10-02</td>\n",
       "    </tr>\n",
       "    <tr>\n",
       "      <th>2017-10-03</th>\n",
       "      <td>-0.140157</td>\n",
       "      <td>2.255219</td>\n",
       "      <td>1.637998</td>\n",
       "      <td>2017-10-03</td>\n",
       "    </tr>\n",
       "    <tr>\n",
       "      <th>2017-10-04</th>\n",
       "      <td>2.342089</td>\n",
       "      <td>0.052039</td>\n",
       "      <td>1.062294</td>\n",
       "      <td>2017-10-04</td>\n",
       "    </tr>\n",
       "    <tr>\n",
       "      <th>2017-10-05</th>\n",
       "      <td>0.399734</td>\n",
       "      <td>1.130438</td>\n",
       "      <td>1.180739</td>\n",
       "      <td>2017-10-05</td>\n",
       "    </tr>\n",
       "    <tr>\n",
       "      <th>2017-10-06</th>\n",
       "      <td>2.892481</td>\n",
       "      <td>-1.207851</td>\n",
       "      <td>-0.315728</td>\n",
       "      <td>2017-10-06</td>\n",
       "    </tr>\n",
       "    <tr>\n",
       "      <th>2017-10-07</th>\n",
       "      <td>1.078070</td>\n",
       "      <td>0.993069</td>\n",
       "      <td>-0.298695</td>\n",
       "      <td>2017-10-07</td>\n",
       "    </tr>\n",
       "    <tr>\n",
       "      <th>2017-10-08</th>\n",
       "      <td>-1.934822</td>\n",
       "      <td>0.770533</td>\n",
       "      <td>1.878864</td>\n",
       "      <td>2017-10-08</td>\n",
       "    </tr>\n",
       "    <tr>\n",
       "      <th>2017-10-09</th>\n",
       "      <td>-0.973343</td>\n",
       "      <td>0.818633</td>\n",
       "      <td>0.578578</td>\n",
       "      <td>2017-10-09</td>\n",
       "    </tr>\n",
       "    <tr>\n",
       "      <th>2017-10-10</th>\n",
       "      <td>0.941606</td>\n",
       "      <td>1.041696</td>\n",
       "      <td>1.509840</td>\n",
       "      <td>2017-10-10</td>\n",
       "    </tr>\n",
       "  </tbody>\n",
       "</table>\n",
       "</div>"
      ],
      "text/plain": [
       "                 one       two     three       date\n",
       "2017-10-01 -0.244262  1.253725  1.906872 2017-10-01\n",
       "2017-10-02  0.967578  3.011935  1.513145 2017-10-02\n",
       "2017-10-03 -0.140157  2.255219  1.637998 2017-10-03\n",
       "2017-10-04  2.342089  0.052039  1.062294 2017-10-04\n",
       "2017-10-05  0.399734  1.130438  1.180739 2017-10-05\n",
       "2017-10-06  2.892481 -1.207851 -0.315728 2017-10-06\n",
       "2017-10-07  1.078070  0.993069 -0.298695 2017-10-07\n",
       "2017-10-08 -1.934822  0.770533  1.878864 2017-10-08\n",
       "2017-10-09 -0.973343  0.818633  0.578578 2017-10-09\n",
       "2017-10-10  0.941606  1.041696  1.509840 2017-10-10"
      ]
     },
     "execution_count": 4,
     "metadata": {},
     "output_type": "execute_result"
    }
   ],
   "source": [
    "df['date'] = df.index\n",
    "df"
   ]
  },
  {
   "cell_type": "code",
   "execution_count": 5,
   "metadata": {},
   "outputs": [
    {
     "data": {
      "text/plain": [
       "<matplotlib.axes._subplots.AxesSubplot at 0x1d1affc1588>"
      ]
     },
     "execution_count": 5,
     "metadata": {},
     "output_type": "execute_result"
    },
    {
     "data": {
      "image/png": "[encoded data removed]",
      "text/plain": [
       "<matplotlib.figure.Figure at 0x1d1afe57a58>"
      ]
     },
     "metadata": {},
     "output_type": "display_data"
    }
   ],
   "source": [
    "df.plot(x='date', y = ['one', 'two', 'three'])"
   ]
  },
  {
   "cell_type": "code",
   "execution_count": 6,
   "metadata": {},
   "outputs": [
    {
     "data": {
      "text/plain": [
       "<matplotlib.axes._subplots.AxesSubplot at 0x1d1affc19e8>"
      ]
     },
     "execution_count": 6,
     "metadata": {},
     "output_type": "execute_result"
    },
    {
     "data": {
      "image/png": "[encoded data removed]",
      "text/plain": [
       "<matplotlib.figure.Figure at 0x1d1b02d3080>"
      ]
     },
     "metadata": {},
     "output_type": "display_data"
    }
   ],
   "source": [
    "df.plot(x='date', y = ['one', 'two', 'three'], marker='o', markersize=10, linestyle='')"
   ]
  },
  {
   "cell_type": "code",
   "execution_count": 7,
   "metadata": {},
   "outputs": [
    {
     "data": {
      "text/plain": [
       "-0.42291644844909643"
      ]
     },
     "execution_count": 7,
     "metadata": {},
     "output_type": "execute_result"
    }
   ],
   "source": [
    "df['one'].corr(df['two'])"
   ]
  },
  {
   "cell_type": "code",
   "execution_count": 8,
   "metadata": {},
   "outputs": [
    {
     "data": {
      "text/html": [
       "<div>\n",
       "<style>\n",
       "    .dataframe thead tr:only-child th {\n",
       "        text-align: right;\n",
       "    }\n",
       "\n",
       "    .dataframe thead th {\n",
       "        text-align: left;\n",
       "    }\n",
       "\n",
       "    .dataframe tbody tr th {\n",
       "        vertical-align: top;\n",
       "    }\n",
       "</style>\n",
       "<table border=\"1\" class=\"dataframe\">\n",
       "  <thead>\n",
       "    <tr style=\"text-align: right;\">\n",
       "      <th></th>\n",
       "      <th>one</th>\n",
       "      <th>two</th>\n",
       "      <th>three</th>\n",
       "      <th>date</th>\n",
       "    </tr>\n",
       "  </thead>\n",
       "  <tbody>\n",
       "    <tr>\n",
       "      <th>2017-10-01</th>\n",
       "      <td>-0.736074</td>\n",
       "      <td>1.188697</td>\n",
       "      <td>0.967432</td>\n",
       "      <td>2017-10-01</td>\n",
       "    </tr>\n",
       "    <tr>\n",
       "      <th>2017-10-02</th>\n",
       "      <td>1.376820</td>\n",
       "      <td>-0.300346</td>\n",
       "      <td>1.119592</td>\n",
       "      <td>2017-10-02</td>\n",
       "    </tr>\n",
       "    <tr>\n",
       "      <th>2017-10-03</th>\n",
       "      <td>2.486248</td>\n",
       "      <td>1.853970</td>\n",
       "      <td>1.686494</td>\n",
       "      <td>2017-10-03</td>\n",
       "    </tr>\n",
       "    <tr>\n",
       "      <th>2017-10-04</th>\n",
       "      <td>2.159880</td>\n",
       "      <td>-0.497298</td>\n",
       "      <td>-1.417530</td>\n",
       "      <td>2017-10-04</td>\n",
       "    </tr>\n",
       "    <tr>\n",
       "      <th>2017-10-05</th>\n",
       "      <td>1.957964</td>\n",
       "      <td>0.275656</td>\n",
       "      <td>2.537017</td>\n",
       "      <td>2017-10-05</td>\n",
       "    </tr>\n",
       "    <tr>\n",
       "      <th>2017-10-06</th>\n",
       "      <td>1.535590</td>\n",
       "      <td>-0.545235</td>\n",
       "      <td>-0.215589</td>\n",
       "      <td>2017-10-06</td>\n",
       "    </tr>\n",
       "    <tr>\n",
       "      <th>2017-10-07</th>\n",
       "      <td>0.811898</td>\n",
       "      <td>3.082516</td>\n",
       "      <td>2.981769</td>\n",
       "      <td>2017-10-07</td>\n",
       "    </tr>\n",
       "    <tr>\n",
       "      <th>2017-10-08</th>\n",
       "      <td>1.209701</td>\n",
       "      <td>0.449293</td>\n",
       "      <td>1.594798</td>\n",
       "      <td>2017-10-08</td>\n",
       "    </tr>\n",
       "    <tr>\n",
       "      <th>2017-10-09</th>\n",
       "      <td>1.113860</td>\n",
       "      <td>2.465448</td>\n",
       "      <td>1.838403</td>\n",
       "      <td>2017-10-09</td>\n",
       "    </tr>\n",
       "    <tr>\n",
       "      <th>2017-10-10</th>\n",
       "      <td>-0.269944</td>\n",
       "      <td>1.662713</td>\n",
       "      <td>-0.150800</td>\n",
       "      <td>2017-10-10</td>\n",
       "    </tr>\n",
       "  </tbody>\n",
       "</table>\n",
       "</div>"
      ],
      "text/plain": [
       "                 one       two     three       date\n",
       "2017-10-01 -0.736074  1.188697  0.967432 2017-10-01\n",
       "2017-10-02  1.376820 -0.300346  1.119592 2017-10-02\n",
       "2017-10-03  2.486248  1.853970  1.686494 2017-10-03\n",
       "2017-10-04  2.159880 -0.497298 -1.417530 2017-10-04\n",
       "2017-10-05  1.957964  0.275656  2.537017 2017-10-05\n",
       "2017-10-06  1.535590 -0.545235 -0.215589 2017-10-06\n",
       "2017-10-07  0.811898  3.082516  2.981769 2017-10-07\n",
       "2017-10-08  1.209701  0.449293  1.594798 2017-10-08\n",
       "2017-10-09  1.113860  2.465448  1.838403 2017-10-09\n",
       "2017-10-10 -0.269944  1.662713 -0.150800 2017-10-10"
      ]
     },
     "execution_count": 8,
     "metadata": {},
     "output_type": "execute_result"
    }
   ],
   "source": [
    "df"
   ]
  },
  {
   "cell_type": "code",
   "execution_count": 8,
   "metadata": {},
   "outputs": [
    {
     "data": {
      "text/html": [
       "<div>\n",
       "<style>\n",
       "    .dataframe thead tr:only-child th {\n",
       "        text-align: right;\n",
       "    }\n",
       "\n",
       "    .dataframe thead th {\n",
       "        text-align: left;\n",
       "    }\n",
       "\n",
       "    .dataframe tbody tr th {\n",
       "        vertical-align: top;\n",
       "    }\n",
       "</style>\n",
       "<table border=\"1\" class=\"dataframe\">\n",
       "  <thead>\n",
       "    <tr style=\"text-align: right;\">\n",
       "      <th></th>\n",
       "      <th>one</th>\n",
       "      <th>two</th>\n",
       "      <th>three</th>\n",
       "      <th>date</th>\n",
       "      <th>diff</th>\n",
       "    </tr>\n",
       "  </thead>\n",
       "  <tbody>\n",
       "    <tr>\n",
       "      <th>2017-10-01</th>\n",
       "      <td>-0.244262</td>\n",
       "      <td>1.253725</td>\n",
       "      <td>1.906872</td>\n",
       "      <td>2017-10-01</td>\n",
       "      <td>-0.653147</td>\n",
       "    </tr>\n",
       "    <tr>\n",
       "      <th>2017-10-02</th>\n",
       "      <td>0.967578</td>\n",
       "      <td>3.011935</td>\n",
       "      <td>1.513145</td>\n",
       "      <td>2017-10-02</td>\n",
       "      <td>1.498790</td>\n",
       "    </tr>\n",
       "    <tr>\n",
       "      <th>2017-10-03</th>\n",
       "      <td>-0.140157</td>\n",
       "      <td>2.255219</td>\n",
       "      <td>1.637998</td>\n",
       "      <td>2017-10-03</td>\n",
       "      <td>0.617220</td>\n",
       "    </tr>\n",
       "    <tr>\n",
       "      <th>2017-10-04</th>\n",
       "      <td>2.342089</td>\n",
       "      <td>0.052039</td>\n",
       "      <td>1.062294</td>\n",
       "      <td>2017-10-04</td>\n",
       "      <td>-1.010255</td>\n",
       "    </tr>\n",
       "    <tr>\n",
       "      <th>2017-10-05</th>\n",
       "      <td>0.399734</td>\n",
       "      <td>1.130438</td>\n",
       "      <td>1.180739</td>\n",
       "      <td>2017-10-05</td>\n",
       "      <td>-0.050301</td>\n",
       "    </tr>\n",
       "    <tr>\n",
       "      <th>2017-10-06</th>\n",
       "      <td>2.892481</td>\n",
       "      <td>-1.207851</td>\n",
       "      <td>-0.315728</td>\n",
       "      <td>2017-10-06</td>\n",
       "      <td>-0.892123</td>\n",
       "    </tr>\n",
       "    <tr>\n",
       "      <th>2017-10-07</th>\n",
       "      <td>1.078070</td>\n",
       "      <td>0.993069</td>\n",
       "      <td>-0.298695</td>\n",
       "      <td>2017-10-07</td>\n",
       "      <td>1.291764</td>\n",
       "    </tr>\n",
       "    <tr>\n",
       "      <th>2017-10-08</th>\n",
       "      <td>-1.934822</td>\n",
       "      <td>0.770533</td>\n",
       "      <td>1.878864</td>\n",
       "      <td>2017-10-08</td>\n",
       "      <td>-1.108332</td>\n",
       "    </tr>\n",
       "    <tr>\n",
       "      <th>2017-10-09</th>\n",
       "      <td>-0.973343</td>\n",
       "      <td>0.818633</td>\n",
       "      <td>0.578578</td>\n",
       "      <td>2017-10-09</td>\n",
       "      <td>0.240054</td>\n",
       "    </tr>\n",
       "    <tr>\n",
       "      <th>2017-10-10</th>\n",
       "      <td>0.941606</td>\n",
       "      <td>1.041696</td>\n",
       "      <td>1.509840</td>\n",
       "      <td>2017-10-10</td>\n",
       "      <td>-0.468144</td>\n",
       "    </tr>\n",
       "  </tbody>\n",
       "</table>\n",
       "</div>"
      ],
      "text/plain": [
       "                 one       two     three       date      diff\n",
       "2017-10-01 -0.244262  1.253725  1.906872 2017-10-01 -0.653147\n",
       "2017-10-02  0.967578  3.011935  1.513145 2017-10-02  1.498790\n",
       "2017-10-03 -0.140157  2.255219  1.637998 2017-10-03  0.617220\n",
       "2017-10-04  2.342089  0.052039  1.062294 2017-10-04 -1.010255\n",
       "2017-10-05  0.399734  1.130438  1.180739 2017-10-05 -0.050301\n",
       "2017-10-06  2.892481 -1.207851 -0.315728 2017-10-06 -0.892123\n",
       "2017-10-07  1.078070  0.993069 -0.298695 2017-10-07  1.291764\n",
       "2017-10-08 -1.934822  0.770533  1.878864 2017-10-08 -1.108332\n",
       "2017-10-09 -0.973343  0.818633  0.578578 2017-10-09  0.240054\n",
       "2017-10-10  0.941606  1.041696  1.509840 2017-10-10 -0.468144"
      ]
     },
     "execution_count": 8,
     "metadata": {},
     "output_type": "execute_result"
    }
   ],
   "source": [
    "df['diff'] = df['two'] - df['three']\n",
    "df"
   ]
  },
  {
   "cell_type": "code",
   "execution_count": 9,
   "metadata": {},
   "outputs": [
    {
     "data": {
      "text/html": [
       "<div>\n",
       "<style>\n",
       "    .dataframe thead tr:only-child th {\n",
       "        text-align: right;\n",
       "    }\n",
       "\n",
       "    .dataframe thead th {\n",
       "        text-align: left;\n",
       "    }\n",
       "\n",
       "    .dataframe tbody tr th {\n",
       "        vertical-align: top;\n",
       "    }\n",
       "</style>\n",
       "<table border=\"1\" class=\"dataframe\">\n",
       "  <thead>\n",
       "    <tr style=\"text-align: right;\">\n",
       "      <th></th>\n",
       "      <th>one</th>\n",
       "      <th>two</th>\n",
       "      <th>three</th>\n",
       "      <th>date</th>\n",
       "    </tr>\n",
       "  </thead>\n",
       "  <tbody>\n",
       "    <tr>\n",
       "      <th>2017-10-02</th>\n",
       "      <td>1.376820</td>\n",
       "      <td>-0.300346</td>\n",
       "      <td>1.119592</td>\n",
       "      <td>2017-10-02</td>\n",
       "    </tr>\n",
       "    <tr>\n",
       "      <th>2017-10-03</th>\n",
       "      <td>2.486248</td>\n",
       "      <td>1.853970</td>\n",
       "      <td>1.686494</td>\n",
       "      <td>2017-10-03</td>\n",
       "    </tr>\n",
       "    <tr>\n",
       "      <th>2017-10-04</th>\n",
       "      <td>2.159880</td>\n",
       "      <td>-0.497298</td>\n",
       "      <td>-1.417530</td>\n",
       "      <td>2017-10-04</td>\n",
       "    </tr>\n",
       "    <tr>\n",
       "      <th>2017-10-05</th>\n",
       "      <td>1.957964</td>\n",
       "      <td>0.275656</td>\n",
       "      <td>2.537017</td>\n",
       "      <td>2017-10-05</td>\n",
       "    </tr>\n",
       "    <tr>\n",
       "      <th>2017-10-06</th>\n",
       "      <td>1.535590</td>\n",
       "      <td>-0.545235</td>\n",
       "      <td>-0.215589</td>\n",
       "      <td>2017-10-06</td>\n",
       "    </tr>\n",
       "    <tr>\n",
       "      <th>2017-10-07</th>\n",
       "      <td>0.811898</td>\n",
       "      <td>3.082516</td>\n",
       "      <td>2.981769</td>\n",
       "      <td>2017-10-07</td>\n",
       "    </tr>\n",
       "    <tr>\n",
       "      <th>2017-10-08</th>\n",
       "      <td>1.209701</td>\n",
       "      <td>0.449293</td>\n",
       "      <td>1.594798</td>\n",
       "      <td>2017-10-08</td>\n",
       "    </tr>\n",
       "    <tr>\n",
       "      <th>2017-10-09</th>\n",
       "      <td>1.113860</td>\n",
       "      <td>2.465448</td>\n",
       "      <td>1.838403</td>\n",
       "      <td>2017-10-09</td>\n",
       "    </tr>\n",
       "  </tbody>\n",
       "</table>\n",
       "</div>"
      ],
      "text/plain": [
       "                 one       two     three       date\n",
       "2017-10-02  1.376820 -0.300346  1.119592 2017-10-02\n",
       "2017-10-03  2.486248  1.853970  1.686494 2017-10-03\n",
       "2017-10-04  2.159880 -0.497298 -1.417530 2017-10-04\n",
       "2017-10-05  1.957964  0.275656  2.537017 2017-10-05\n",
       "2017-10-06  1.535590 -0.545235 -0.215589 2017-10-06\n",
       "2017-10-07  0.811898  3.082516  2.981769 2017-10-07\n",
       "2017-10-08  1.209701  0.449293  1.594798 2017-10-08\n",
       "2017-10-09  1.113860  2.465448  1.838403 2017-10-09"
      ]
     },
     "execution_count": 9,
     "metadata": {},
     "output_type": "execute_result"
    }
   ],
   "source": [
    "df_2 = df[df['one']>0]\n",
    "df_2"
   ]
  },
  {
   "cell_type": "code",
   "execution_count": 10,
   "metadata": {},
   "outputs": [
    {
     "name": "stderr",
     "output_type": "stream",
     "text": [
      "C:\\Users\\zli\\Anaconda3\\lib\\site-packages\\ipykernel_launcher.py:1: SettingWithCopyWarning: \n",
      "A value is trying to be set on a copy of a slice from a DataFrame\n",
      "\n",
      "See the caveats in the documentation: http://pandas.pydata.org/pandas-docs/stable/indexing.html#indexing-view-versus-copy\n",
      "  \"\"\"Entry point for launching an IPython kernel.\n"
     ]
    },
    {
     "data": {
      "text/html": [
       "<div>\n",
       "<style>\n",
       "    .dataframe thead tr:only-child th {\n",
       "        text-align: right;\n",
       "    }\n",
       "\n",
       "    .dataframe thead th {\n",
       "        text-align: left;\n",
       "    }\n",
       "\n",
       "    .dataframe tbody tr th {\n",
       "        vertical-align: top;\n",
       "    }\n",
       "</style>\n",
       "<table border=\"1\" class=\"dataframe\">\n",
       "  <thead>\n",
       "    <tr style=\"text-align: right;\">\n",
       "      <th></th>\n",
       "      <th>one</th>\n",
       "      <th>two</th>\n",
       "      <th>three</th>\n",
       "      <th>date</th>\n",
       "    </tr>\n",
       "  </thead>\n",
       "  <tbody>\n",
       "    <tr>\n",
       "      <th>2017-10-03</th>\n",
       "      <td>2.486248</td>\n",
       "      <td>1.853970</td>\n",
       "      <td>1.686494</td>\n",
       "      <td>2017-10-03</td>\n",
       "    </tr>\n",
       "    <tr>\n",
       "      <th>2017-10-04</th>\n",
       "      <td>2.159880</td>\n",
       "      <td>-0.497298</td>\n",
       "      <td>-1.417530</td>\n",
       "      <td>2017-10-04</td>\n",
       "    </tr>\n",
       "    <tr>\n",
       "      <th>2017-10-05</th>\n",
       "      <td>1.957964</td>\n",
       "      <td>0.275656</td>\n",
       "      <td>2.537017</td>\n",
       "      <td>2017-10-05</td>\n",
       "    </tr>\n",
       "    <tr>\n",
       "      <th>2017-10-06</th>\n",
       "      <td>1.535590</td>\n",
       "      <td>-0.545235</td>\n",
       "      <td>-0.215589</td>\n",
       "      <td>2017-10-06</td>\n",
       "    </tr>\n",
       "    <tr>\n",
       "      <th>2017-10-02</th>\n",
       "      <td>1.376820</td>\n",
       "      <td>-0.300346</td>\n",
       "      <td>1.119592</td>\n",
       "      <td>2017-10-02</td>\n",
       "    </tr>\n",
       "    <tr>\n",
       "      <th>2017-10-08</th>\n",
       "      <td>1.209701</td>\n",
       "      <td>0.449293</td>\n",
       "      <td>1.594798</td>\n",
       "      <td>2017-10-08</td>\n",
       "    </tr>\n",
       "    <tr>\n",
       "      <th>2017-10-09</th>\n",
       "      <td>1.113860</td>\n",
       "      <td>2.465448</td>\n",
       "      <td>1.838403</td>\n",
       "      <td>2017-10-09</td>\n",
       "    </tr>\n",
       "    <tr>\n",
       "      <th>2017-10-07</th>\n",
       "      <td>0.811898</td>\n",
       "      <td>3.082516</td>\n",
       "      <td>2.981769</td>\n",
       "      <td>2017-10-07</td>\n",
       "    </tr>\n",
       "  </tbody>\n",
       "</table>\n",
       "</div>"
      ],
      "text/plain": [
       "                 one       two     three       date\n",
       "2017-10-03  2.486248  1.853970  1.686494 2017-10-03\n",
       "2017-10-04  2.159880 -0.497298 -1.417530 2017-10-04\n",
       "2017-10-05  1.957964  0.275656  2.537017 2017-10-05\n",
       "2017-10-06  1.535590 -0.545235 -0.215589 2017-10-06\n",
       "2017-10-02  1.376820 -0.300346  1.119592 2017-10-02\n",
       "2017-10-08  1.209701  0.449293  1.594798 2017-10-08\n",
       "2017-10-09  1.113860  2.465448  1.838403 2017-10-09\n",
       "2017-10-07  0.811898  3.082516  2.981769 2017-10-07"
      ]
     },
     "execution_count": 10,
     "metadata": {},
     "output_type": "execute_result"
    }
   ],
   "source": [
    "df_2.sort_values('one', inplace=True, ascending=False)\n",
    "df_2"
   ]
  },
  {
   "cell_type": "code",
   "execution_count": 12,
   "metadata": {},
   "outputs": [
    {
     "data": {
      "text/plain": [
       "2017-10-03    1.853970\n",
       "2017-10-04   -0.497298\n",
       "2017-10-05    0.275656\n",
       "2017-10-06   -0.545235\n",
       "2017-10-02   -0.300346\n",
       "2017-10-08    0.449293\n",
       "2017-10-09    2.465448\n",
       "2017-10-07    3.082516\n",
       "Name: two, dtype: float64"
      ]
     },
     "execution_count": 12,
     "metadata": {},
     "output_type": "execute_result"
    }
   ],
   "source": [
    "t = df_2['two']\n",
    "t"
   ]
  },
  {
   "cell_type": "code",
   "execution_count": 13,
   "metadata": {},
   "outputs": [
    {
     "data": {
      "text/plain": [
       "pandas.core.series.Series"
      ]
     },
     "execution_count": 13,
     "metadata": {},
     "output_type": "execute_result"
    }
   ],
   "source": [
    "type(t)"
   ]
  },
  {
   "cell_type": "code",
   "execution_count": 17,
   "metadata": {},
   "outputs": [
    {
     "data": {
      "text/plain": [
       "2017-10-03    1.853970\n",
       "2017-10-05    0.275656\n",
       "2017-10-08    0.449293\n",
       "2017-10-09    2.465448\n",
       "2017-10-07    3.082516\n",
       "Name: two, dtype: float64"
      ]
     },
     "execution_count": 17,
     "metadata": {},
     "output_type": "execute_result"
    }
   ],
   "source": [
    "t= t[t>0]\n",
    "t"
   ]
  },
  {
   "cell_type": "code",
   "execution_count": 18,
   "metadata": {},
   "outputs": [
    {
     "data": {
      "text/plain": [
       "pandas.core.series.Series"
      ]
     },
     "execution_count": 18,
     "metadata": {},
     "output_type": "execute_result"
    }
   ],
   "source": [
    "type(t)"
   ]
  },
  {
   "cell_type": "code",
   "execution_count": null,
   "metadata": {
    "collapsed": true
   },
   "outputs": [],
   "source": []
  }
 ],
 "metadata": {
  "kernelspec": {
   "display_name": "Python 3",
   "language": "python",
   "name": "python3"
  },
  "language_info": {
   "codemirror_mode": {
    "name": "ipython",
    "version": 3
   },
   "file_extension": ".py",
   "mimetype": "text/x-python",
   "name": "python",
   "nbconvert_exporter": "python",
   "pygments_lexer": "ipython3",
   "version": "3.6.3"
  }
 },
 "nbformat": 4,
 "nbformat_minor": 2
}
